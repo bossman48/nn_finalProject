{
  "cells": [
    {
      "cell_type": "markdown",
      "metadata": {
        "id": "3qghLhlsnjb6"
      },
      "source": [
        "download source data from internet"
      ]
    },
    {
      "cell_type": "code",
      "execution_count": 1,
      "metadata": {
        "id": "lfg80ey9El3g"
      },
      "outputs": [],
      "source": [
        "#1\n",
        "#download source data from internet\n",
        "from requests import get\n",
        "\n",
        "def download_file(url, file_name):\n",
        "    with open(file_name, \"wb\") as file:\n",
        "        response = get(url)\n",
        "        file.write(response.content)\n",
        "download_file('http://yann.lecun.com/exdb/mnist/train-images-idx3-ubyte.gz', 'train-images-idx3-ubyte.gz')\n",
        "download_file('http://yann.lecun.com/exdb/mnist/train-labels-idx1-ubyte.gz', 'train-labels-idx1-ubyte.gz')\n",
        "download_file('http://yann.lecun.com/exdb/mnist/t10k-images-idx3-ubyte.gz', 't10k-images-idx3-ubyte.gz')\n",
        "download_file('http://yann.lecun.com/exdb/mnist/t10k-labels-idx1-ubyte.gz', 't10k-labels-idx1-ubyte.gz')\n"
      ]
    },
    {
      "cell_type": "markdown",
      "metadata": {
        "id": "3kMt6j2MoKtA"
      },
      "source": [
        "We get the math symbols data from \"https://www.kaggle.com/sagyamthapahandwritten-math-symbols\""
      ]
    },
    {
      "cell_type": "code",
      "execution_count": 2,
      "metadata": {
        "colab": {
          "base_uri": "https://localhost:8080/"
        },
        "id": "snGrI-Puf3YS",
        "outputId": "409a01a4-0096-41b4-ca65-da0bbf104aa2"
      },
      "outputs": [
        {
          "output_type": "stream",
          "name": "stdout",
          "text": [
            "Mounted at /content/drive\n"
          ]
        }
      ],
      "source": [
        "from google.colab import drive\n",
        "drive.mount('/content/drive')"
      ]
    },
    {
      "cell_type": "code",
      "execution_count": 3,
      "metadata": {
        "id": "aXMkFq8GE4mW"
      },
      "outputs": [],
      "source": [
        "#2\n",
        "#import libraries\n",
        "import gzip\n",
        "import os\n",
        "import numpy as np\n",
        "import pandas as pd\n",
        "from time import time\n",
        "\n",
        "from sklearn.model_selection import train_test_split\n",
        "import tensorflow as tf\n",
        "import keras\n",
        "import keras.layers as layers\n",
        "from keras.models import Sequential\n",
        "from keras.preprocessing.image import ImageDataGenerator\n",
        "from keras.utils.np_utils import to_categorical\n",
        "from keras.callbacks import TensorBoard\n",
        "\n",
        "%matplotlib inline\n",
        "import matplotlib.pyplot as plt\n",
        "import seaborn as sns\n",
        "sns.set()\n"
      ]
    },
    {
      "cell_type": "code",
      "execution_count": 4,
      "metadata": {
        "colab": {
          "base_uri": "https://localhost:8080/"
        },
        "id": "xDnuo0talnTN",
        "outputId": "9173b0c1-a51b-467e-f0ae-5461dd1aa5b1"
      },
      "outputs": [
        {
          "output_type": "stream",
          "name": "stdout",
          "text": [
            "trainPlusLen: 545 trainMinusLen: 549 trainDivLen: 544 trainTimesLen: 556\n",
            "testPlusLen: 78 testMinusLen: 80 testDivLen: 78 testTimesLen: 80\n"
          ]
        }
      ],
      "source": [
        "#ls \"/content/drive/My Drive/neuralNetworks/mainData/train/equal\"\n",
        "\n",
        "trainPlusPath = \"/content/drive/My Drive/neuralNetworks/mainData/train/plus\" \n",
        "trainMinusPath = \"/content/drive/My Drive/neuralNetworks/mainData/train/minus\" \n",
        "trainDivPath = \"/content/drive/My Drive/neuralNetworks/mainData/train/div\" \n",
        "trainTimesPath = \"/content/drive/My Drive/neuralNetworks/mainData/train/times\" \n",
        "\n",
        "testPlusPath = \"/content/drive/My Drive/neuralNetworks/mainData/test/plus\" \n",
        "testMinusPath = \"/content/drive/My Drive/neuralNetworks/mainData/test/minus\" \n",
        "testDivPath = \"/content/drive/My Drive/neuralNetworks/mainData/test/div\" \n",
        "testTimesPath = \"/content/drive/My Drive/neuralNetworks/mainData/test/times\" \n",
        "\n",
        "trainPlusLen = len(os.listdir(trainPlusPath))\n",
        "trainMinusLen = len(os.listdir(trainMinusPath))\n",
        "trainDivLen = len(os.listdir(trainDivPath))\n",
        "trainTimesLen = len(os.listdir(trainTimesPath))\n",
        "\n",
        "testPlusLen = len(os.listdir(testPlusPath))\n",
        "testMinusLen = len(os.listdir(testMinusPath))\n",
        "testDivLen = len(os.listdir(testDivPath))\n",
        "testTimesLen = len(os.listdir(testTimesPath))\n",
        "\n",
        "print(\"trainPlusLen: \"+str(trainPlusLen)+ \" trainMinusLen: \"+ str(trainMinusLen) + \" trainDivLen: \"+ str(trainDivLen)+ \" trainTimesLen: \"+ str(trainTimesLen))\n",
        "print(\"testPlusLen: \"+str(testPlusLen)+ \" testMinusLen: \"+ str(testMinusLen) + \" testDivLen: \"+ str(testDivLen)+ \" testTimesLen: \"+ str(testTimesLen))"
      ]
    },
    {
      "cell_type": "code",
      "execution_count": 5,
      "metadata": {
        "colab": {
          "base_uri": "https://localhost:8080/",
          "height": 383
        },
        "id": "egjcqdaosWCO",
        "outputId": "16b2269c-4ec6-4946-a71f-7b49520aec90"
      },
      "outputs": [
        {
          "output_type": "stream",
          "name": "stdout",
          "text": [
            "/content/drive/My Drive/neuralNetworks/mainData/train/plus/3614.jpg\n",
            "JPEG\n",
            "(155, 135)\n",
            "RGB\n",
            "<class 'numpy.ndarray'>\n",
            "(28, 28, 3)\n"
          ]
        },
        {
          "output_type": "execute_result",
          "data": {
            "text/plain": [
              "<matplotlib.image.AxesImage at 0x7f2923a47f50>"
            ]
          },
          "metadata": {},
          "execution_count": 5
        },
        {
          "output_type": "display_data",
          "data": {
            "image/png": "[encoded data removed]",
            "text/plain": [
              "<Figure size 432x288 with 1 Axes>"
            ]
          },
          "metadata": {}
        }
      ],
      "source": [
        "import os, random\n",
        "from PIL import Image\n",
        "from numpy import asarray\n",
        "fileName = \"/content/drive/My Drive/neuralNetworks/mainData/train/plus/\" + str(random.choice(os.listdir(\"/content/drive/My Drive/neuralNetworks/mainData/train/plus\"))) #change dir name to whatever\n",
        "print(fileName)\n",
        "\n",
        "image = Image.open(fileName)\n",
        "image.show()\n",
        "print(image.format)\n",
        "print(image.size)\n",
        "img = image.resize((28,28))\n",
        "print(image.mode)\n",
        "\n",
        "data = asarray(img)\n",
        "print(type(data[0]))\n",
        "# summarize shape\n",
        "print(data.shape)\n",
        "\n",
        "plt.imshow(data, cmap=plt.cm.gray_r)"
      ]
    },
    {
      "cell_type": "code",
      "execution_count": 6,
      "metadata": {
        "id": "ITAVDFNiE8NT"
      },
      "outputs": [],
      "source": [
        "#3\n",
        "#read mnist data from source \n",
        "def read_mnist(images_path: str, labels_path: str):\n",
        "    with gzip.open(labels_path, 'rb') as labelsFile:\n",
        "        labels = np.frombuffer(labelsFile.read(), dtype=np.uint8, offset=8)\n",
        "\n",
        "    with gzip.open(images_path,'rb') as imagesFile:\n",
        "        length = len(labels)\n",
        "        # Load flat 28x28 px images (784 px), and convert them to 28x28 px\n",
        "        features = np.frombuffer(imagesFile.read(), dtype=np.uint8, offset=16) \\\n",
        "                        .reshape(length, 784) \\\n",
        "                        .reshape(length, 28, 28, 1)\n",
        "        \n",
        "    return features, labels"
      ]
    },
    {
      "cell_type": "code",
      "execution_count": 7,
      "metadata": {
        "id": "0ycxi13jE_hH"
      },
      "outputs": [],
      "source": [
        "#4\n",
        "#implementation test and train data\n",
        "train = {}\n",
        "test = {}\n",
        "\n",
        "train['features'], train['labels'] = read_mnist('train-images-idx3-ubyte.gz', 'train-labels-idx1-ubyte.gz')\n",
        "test['features'], test['labels'] = read_mnist('t10k-images-idx3-ubyte.gz', 't10k-labels-idx1-ubyte.gz')\n"
      ]
    },
    {
      "cell_type": "code",
      "execution_count": 8,
      "metadata": {
        "colab": {
          "base_uri": "https://localhost:8080/"
        },
        "id": "zscsVtgVSyaD",
        "outputId": "e48a8cc6-0f80-40be-86fa-1a23028f36af"
      },
      "outputs": [
        {
          "output_type": "stream",
          "name": "stdout",
          "text": [
            "Updated Image Shape: (32, 32, 1)\n"
          ]
        }
      ],
      "source": [
        "train['features']      = np.pad(train['features'], ((0,0),(2,2),(2,2),(0,0)), 'constant')\n",
        "test['features']       = np.pad(test['features'], ((0,0),(2,2),(2,2),(0,0)), 'constant')\n",
        "    \n",
        "print(\"Updated Image Shape: {}\".format(train['features'][0].shape))"
      ]
    },
    {
      "cell_type": "code",
      "execution_count": 9,
      "metadata": {
        "id": "nBjPOQF0FL-3"
      },
      "outputs": [],
      "source": [
        "#5\n",
        "#display image function\n",
        "def display_image(position):\n",
        "    image = train['features'][position].squeeze()\n",
        "    print(image.shape)\n",
        "    plt.title('Example %d. Label: %d' % (position, train['labels'][position]))\n",
        "    plt.imshow(image, cmap=plt.cm.gray_r)"
      ]
    },
    {
      "cell_type": "code",
      "execution_count": 10,
      "metadata": {
        "colab": {
          "base_uri": "https://localhost:8080/",
          "height": 300
        },
        "id": "g0FhjH16fJx_",
        "outputId": "3cb2b71d-f5c8-4b99-8492-65ca50be0c88"
      },
      "outputs": [
        {
          "output_type": "stream",
          "name": "stdout",
          "text": [
            "(32, 32)\n"
          ]
        },
        {
          "output_type": "display_data",
          "data": {
            "image/png": "[encoded data removed]",
            "text/plain": [
              "<Figure size 432x288 with 1 Axes>"
            ]
          },
          "metadata": {}
        }
      ],
      "source": [
        "display_image(32)"
      ]
    },
    {
      "cell_type": "code",
      "execution_count": 11,
      "metadata": {
        "colab": {
          "base_uri": "https://localhost:8080/"
        },
        "id": "92PS3NOyr4RK",
        "outputId": "6bea7131-311a-4688-8c34-1bd3b9aee7ec"
      },
      "outputs": [
        {
          "output_type": "stream",
          "name": "stdout",
          "text": [
            "len(resultOfZeros):  5923\n",
            "len(resultOfOnes):  6742\n",
            "len(resultOfTwos):  5958\n",
            "len(resultOfThrees):  6131\n",
            "len(resultOfFours):  5842\n",
            "len(resultOfFives):  5421\n",
            "len(resultOfSixes):  5918\n",
            "len(resultOfSevens):  6265\n",
            "len(resultOfEights):  5851\n",
            "len(resultOfNines):  5949\n"
          ]
        }
      ],
      "source": [
        "#6\n",
        "#for the train\n",
        "#seperation of zeros, ones, ... , nines\n",
        "resultOfZeros = np.where(train['labels'] == 0)\n",
        "print('len(resultOfZeros): ', len(resultOfZeros[0]))\n",
        "resultOfOnes = np.where(train['labels'] == 1)\n",
        "print('len(resultOfOnes): ', len(resultOfOnes[0]))\n",
        "resultOfTwos = np.where(train['labels'] == 2)\n",
        "print('len(resultOfTwos): ', len(resultOfTwos[0]))\n",
        "resultOfThrees = np.where(train['labels'] == 3)\n",
        "print('len(resultOfThrees): ', len(resultOfThrees[0]))\n",
        "resultOfFours = np.where(train['labels'] == 4)\n",
        "print('len(resultOfFours): ', len(resultOfFours[0]))\n",
        "resultOfFives = np.where(train['labels'] == 5)\n",
        "print('len(resultOfFives): ', len(resultOfFives[0]))\n",
        "resultOfSixes = np.where(train['labels'] == 6)\n",
        "print('len(resultOfSixes): ', len(resultOfSixes[0]))\n",
        "resultOfSevens = np.where(train['labels'] == 7)\n",
        "print('len(resultOfSevens): ', len(resultOfSevens[0]))\n",
        "resultOfEights = np.where(train['labels'] == 8)\n",
        "print('len(resultOfEights): ', len(resultOfEights[0]))\n",
        "resultOfNines = np.where(train['labels'] == 9)\n",
        "print('len(resultOfNines): ', len(resultOfNines[0]))"
      ]
    },
    {
      "cell_type": "code",
      "execution_count": 12,
      "metadata": {
        "colab": {
          "base_uri": "https://localhost:8080/"
        },
        "id": "0e4riKdNAEgk",
        "outputId": "825ae752-a32b-4a51-ee03-65b429d16277"
      },
      "outputs": [
        {
          "output_type": "stream",
          "name": "stdout",
          "text": [
            "len(resultOfZeros):  980\n",
            "len(resultOfOnes):  1135\n",
            "len(resultOfTwos):  1032\n",
            "len(resultOfThrees):  1010\n",
            "len(resultOfFours):  982\n",
            "len(resultOfFives):  892\n",
            "len(resultOfSixes):  958\n",
            "len(resultOfSevens):  1028\n",
            "len(resultOfEights):  974\n",
            "len(resultOfNines):  1009\n"
          ]
        }
      ],
      "source": [
        "#6\n",
        "#for the test\n",
        "#seperation of zeros, ones, ... , nines\n",
        "resultOfZerosTest = np.where(test['labels'] == 0)\n",
        "print('len(resultOfZeros): ', len(resultOfZerosTest[0]))\n",
        "resultOfOnesTest = np.where(test['labels'] == 1)\n",
        "print('len(resultOfOnes): ', len(resultOfOnesTest[0]))\n",
        "resultOfTwosTest = np.where(test['labels'] == 2)\n",
        "print('len(resultOfTwos): ', len(resultOfTwosTest[0]))\n",
        "resultOfThreesTest = np.where(test['labels'] == 3)\n",
        "print('len(resultOfThrees): ', len(resultOfThreesTest[0]))\n",
        "resultOfFoursTest = np.where(test['labels'] == 4)\n",
        "print('len(resultOfFours): ', len(resultOfFoursTest[0]))\n",
        "resultOfFivesTest = np.where(test['labels'] == 5)\n",
        "print('len(resultOfFives): ', len(resultOfFivesTest[0]))\n",
        "resultOfSixesTest = np.where(test['labels'] == 6)\n",
        "print('len(resultOfSixes): ', len(resultOfSixesTest[0]))\n",
        "resultOfSevensTest = np.where(test['labels'] == 7)\n",
        "print('len(resultOfSevens): ', len(resultOfSevensTest[0]))\n",
        "resultOfEightsTest = np.where(test['labels'] == 8)\n",
        "print('len(resultOfEights): ', len(resultOfEightsTest[0]))\n",
        "resultOfNinesTest = np.where(test['labels'] == 9)\n",
        "print('len(resultOfNines): ', len(resultOfNinesTest[0]))"
      ]
    },
    {
      "cell_type": "code",
      "execution_count": 13,
      "metadata": {
        "id": "RvElioE88FTX"
      },
      "outputs": [],
      "source": [
        "#7\n",
        "#display image which combined 2 image in horizontally and labeled \n",
        "def display_image2(position,position2):   ##combined 2 array in numpy and display\n",
        "    image = train['features'][position].squeeze()\n",
        "    image2 = train['features'][position2].squeeze()\n",
        "    print(type(image[0][0]))\n",
        "    print(type(train['labels'][position]))\n",
        "    image3 = (np.hstack((image, image2)))\n",
        "    #plt.title('Example %d. Label: %d' % (position, train['labels'][position]))\n",
        "    print(train['labels'][position]*10+train['labels'][position2])\n",
        "    plt.title('Example %d. Label: %d' % (position, train['labels'][position]+train['labels'][position2]))\n",
        "    plt.imshow(image3, cmap=plt.cm.gray_r)"
      ]
    },
    {
      "cell_type": "code",
      "execution_count": 14,
      "metadata": {
        "colab": {
          "base_uri": "https://localhost:8080/",
          "height": 283
        },
        "id": "i3tYxckY8HqH",
        "outputId": "fb1a1ec2-a483-4489-fa1a-7950aa165944"
      },
      "outputs": [
        {
          "output_type": "stream",
          "name": "stdout",
          "text": [
            "<class 'numpy.uint8'>\n",
            "<class 'numpy.uint8'>\n",
            "95\n"
          ]
        },
        {
          "output_type": "display_data",
          "data": {
            "image/png": "[encoded data removed]",
            "text/plain": [
              "<Figure size 432x288 with 1 Axes>"
            ]
          },
          "metadata": {}
        }
      ],
      "source": [
        "#8\n",
        "#try display_image2()\n",
        "display_image2(29400,22329)"
      ]
    },
    {
      "cell_type": "code",
      "execution_count": 16,
      "metadata": {
        "colab": {
          "base_uri": "https://localhost:8080/",
          "height": 301
        },
        "id": "5KqCO7HRrTGg",
        "outputId": "e521cb4a-e40b-4883-c076-cbb4ae8eafa9"
      },
      "outputs": [
        {
          "output_type": "stream",
          "name": "stdout",
          "text": [
            "<class 'numpy.uint8'>\n",
            "(32, 32)\n"
          ]
        },
        {
          "output_type": "display_data",
          "data": {
            "image/png": "[encoded data removed]",
            "text/plain": [
              "<Figure size 432x288 with 1 Axes>"
            ]
          },
          "metadata": {}
        }
      ],
      "source": [
        "from numpy.core.arrayprint import array2string\n",
        "def randomMathSign():\n",
        "  fileName = \"/content/drive/My Drive/neuralNetworks/mainData/train/\"+str(random.choice(os.listdir(\"/content/drive/My Drive/neuralNetworks/mainData/train/\")))\n",
        "  fileName2 = fileName + \"/\"+str(random.choice(os.listdir(fileName))) #change dir name to whatever\n",
        "\n",
        "  return fileName2;\n",
        "\n",
        "def randomMathSignTest():\n",
        "  fileName = \"/content/drive/My Drive/neuralNetworks/mainData/test/\"+str(random.choice(os.listdir(\"/content/drive/My Drive/neuralNetworks/mainData/test/\")))\n",
        "  fileName2 = fileName + \"/\"+str(random.choice(os.listdir(fileName))) #change dir name to whatever\n",
        "\n",
        "  return fileName2;\n",
        "\n",
        "def getDataMathImages(fileName):\n",
        "  image = Image.open(fileName)\n",
        "  image.show()\n",
        "  img = image.resize((32,32))\n",
        "\n",
        "  data = asarray(img)\n",
        "  return data\n",
        "def blackToWhite(array):\n",
        "  i=0\n",
        "  j=0\n",
        "  array2 = np.zeros([32, 32], dtype=np.uint8 )\n",
        "  while(i<32):\n",
        "    while(j<32):\n",
        "      #print(str(i)+\" \"+str(j))\n",
        "      #print(array[i][j])\n",
        "      array2[i][j]=abs(255-array[i][j])\n",
        "      #print(array2[i][j])\n",
        "      j+=1\n",
        "    i+=1;\n",
        "    j=0;\n",
        "  return array2\n",
        "\n",
        "fileName = randomMathSign()\n",
        "fileName = randomMathSignTest()\n",
        "image=getDataMathImages(fileName)\n",
        "image = image[:, :, 0]\n",
        "print(type(image[0][0]))\n",
        "print(image.shape)\n",
        "#print(image)\n",
        "plt.imshow(image, cmap=plt.cm.gray_r)\n",
        "image2 = blackToWhite(image)\n",
        "#print(image2)\n",
        "#plt.title('Example %d. Label: %d' % (position, label))\n",
        "\n"
      ]
    },
    {
      "cell_type": "code",
      "execution_count": null,
      "metadata": {
        "id": "ypS-JSp3rCsy"
      },
      "outputs": [],
      "source": [
        "#7\n",
        "#display image which combined 2 image in horizontally and labeled \n",
        "def display_image3(position,position2):   ##combined 2 array in numpy and display\n",
        "    image = train['features'][position].squeeze()\n",
        "    image2 = train['features'][position2].squeeze()\n",
        "    fileName = randomMathSign()\n",
        "    image30 = getDataMathImages(fileName)\n",
        "    image30 = image30[:, :, 0]\n",
        "    image3 = blackToWhite(image30);\n",
        "    image4 = (np.hstack((image, image3)))\n",
        "    image5 = (np.hstack((image4, image2)))\n",
        "    print(fileName)\n",
        "    if(fileName.find(\"div\") != -1):\n",
        "      label = train['labels'][position]/train['labels'][position2]\n",
        "    elif(fileName.find(\"plus\") != -1):\n",
        "      label = train['labels'][position]+train['labels'][position2]\n",
        "    elif(fileName.find(\"times\") != -1):\n",
        "      label = train['labels'][position]*train['labels'][position2]\n",
        "    elif(fileName.find(\"minus\") != -1):\n",
        "      label = train['labels'][position]-train['labels'][position2]\n",
        "    else:\n",
        "      label=0;\n",
        "    #plt.title('Example %d. Label: %d' % (position, train['labels'][position]))\n",
        "    #print(train['labels'][position]*10+train['labels'][position2])\n",
        "    plt.title('Example %d. Label: %d' % (position, label))\n",
        "    plt.imshow(image5, cmap=plt.cm.gray_r)"
      ]
    },
    {
      "cell_type": "code",
      "execution_count": null,
      "metadata": {
        "colab": {
          "base_uri": "https://localhost:8080/",
          "height": 194
        },
        "id": "dL8G9BYCtkJP",
        "outputId": "fc0e0714-b062-41e7-e840-a86499a8fb66"
      },
      "outputs": [
        {
          "output_type": "stream",
          "name": "stdout",
          "text": [
            "/content/drive/My Drive/neuralNetworks/mainData/train/minus/481.jpg\n"
          ]
        },
        {
          "output_type": "display_data",
          "data": {
            "image/png": "[encoded data removed]",
            "text/plain": [
              "<Figure size 432x288 with 1 Axes>"
            ]
          },
          "metadata": {}
        }
      ],
      "source": [
        "display_image3(50,70)"
      ]
    },
    {
      "cell_type": "code",
      "execution_count": null,
      "metadata": {
        "id": "nkL5b_xUAcBF"
      },
      "outputs": [],
      "source": [
        "#9\n",
        "#combination of 2 images and labeled\n",
        "def combine2Images(firstImagePos,secondImagePos):   ##combined 2 array in numpy and display\n",
        "    \n",
        "    image = train['features'][firstImagePos].squeeze()\n",
        "    image2 = train['features'][secondImagePos].squeeze()\n",
        "    combinedImage = (np.hstack((image, image2)))\n",
        "    combinedLabel = train['labels'][firstImagePos]+train['labels'][secondImagePos]\n",
        "    return combinedImage, combinedLabel"
      ]
    },
    {
      "cell_type": "code",
      "execution_count": null,
      "metadata": {
        "colab": {
          "base_uri": "https://localhost:8080/",
          "height": 250
        },
        "id": "Q_25ZcUeqpMh",
        "outputId": "7421490e-6fe9-4248-9c87-e2c520329daf"
      },
      "outputs": [
        {
          "output_type": "stream",
          "name": "stdout",
          "text": [
            "(32, 64)\n"
          ]
        },
        {
          "output_type": "display_data",
          "data": {
            "image/png": "[encoded data removed]",
            "text/plain": [
              "<Figure size 432x288 with 1 Axes>"
            ]
          },
          "metadata": {}
        }
      ],
      "source": [
        "#10\n",
        "#try combine2Images()\n",
        "combinedImageWork, combinedLabelWork = combine2Images(29400,22329)\n",
        "plt.title(' Label: %d' % ( combinedLabelWork))\n",
        "plt.imshow(combinedImageWork, cmap=plt.cm.gray_r)\n",
        "print(combinedImageWork.shape)"
      ]
    },
    {
      "cell_type": "code",
      "execution_count": null,
      "metadata": {
        "id": "pj_A1kXJxdsb"
      },
      "outputs": [],
      "source": [
        "#v1\n",
        "def combine3Imagesv1(firstImagePos,secondImagePos):   ##combined 2 array in numpy and display\n",
        "    \n",
        "    image = train['features'][firstImagePos].squeeze()\n",
        "    image2 = train['features'][secondImagePos].squeeze()\n",
        "    fileName = randomMathSign()\n",
        "    image30 = getDataMathImages(fileName)\n",
        "    image30 = image30[:, :, 0]\n",
        "    image3 = blackToWhite(image30);\n",
        "    image4 = (np.hstack((image, image3)))\n",
        "    combinedImage = (np.hstack((image4, image2)))\n",
        "    if(fileName.find(\"div\") != -1):\n",
        "      if(train['labels'][secondImagePos] != 0):\n",
        "        combinedLabel = train['labels'][firstImagePos]/train['labels'][secondImagePos]\n",
        "      else:\n",
        "        combinedLabel = train['labels'][firstImagePos]/0.01\n",
        "    elif(fileName.find(\"plus\") != -1):\n",
        "      combinedLabel = train['labels'][firstImagePos]+train['labels'][secondImagePos]\n",
        "    elif(fileName.find(\"times\") != -1):\n",
        "      combinedLabel = train['labels'][firstImagePos]*train['labels'][secondImagePos]\n",
        "    elif(fileName.find(\"minus\") != -1):\n",
        "      combinedLabel = train['labels'][firstImagePos]-train['labels'][secondImagePos]\n",
        "    return combinedImage, combinedLabel"
      ]
    },
    {
      "cell_type": "code",
      "execution_count": null,
      "metadata": {
        "id": "Ww5YRDf0cuD1"
      },
      "outputs": [],
      "source": [
        "#v2\n",
        "import math\n",
        "combinedImage = np.zeros((3,32,32),dtype=np.uint8)\n",
        "combinedLabel = np.zeros((3),dtype=np.uint8)\n",
        "def combine3Images(firstImagePos,secondImagePos):   ##combined 3 array in numpy and display\n",
        "    \n",
        "    image = train['features'][firstImagePos].squeeze()\n",
        "    image2 = train['features'][secondImagePos].squeeze()\n",
        "    fileName = randomMathSign()\n",
        "    image30 = getDataMathImages(fileName)\n",
        "    image30 = image30[:, :, 0]\n",
        "    image3 = blackToWhite(image30);\n",
        "    combinedImage[0] = image;\n",
        "    combinedLabel[0] = train['labels'][firstImagePos];\n",
        "    combinedLabel[2] = train['labels'][secondImagePos];\n",
        "    combinedImage[1] = image3;\n",
        "    combinedImage[2] = image2;\n",
        "    if(fileName.find(\"div\") != -1):\n",
        "      combinedLabel[1] = 11\n",
        "    elif(fileName.find(\"plus\") != -1):\n",
        "      combinedLabel[1] = 14\n",
        "    elif(fileName.find(\"times\") != -1):\n",
        "      combinedLabel[1] = 17\n",
        "    elif(fileName.find(\"minus\") != -1):\n",
        "      combinedLabel[1] = 20\n",
        "    return combinedImage, combinedLabel"
      ]
    },
    {
      "cell_type": "code",
      "execution_count": null,
      "metadata": {
        "colab": {
          "base_uri": "https://localhost:8080/",
          "height": 316
        },
        "id": "OzA9pjw8xt_D",
        "outputId": "1220efbd-f04f-4e2b-c83c-90a698c890fc"
      },
      "outputs": [
        {
          "output_type": "stream",
          "name": "stdout",
          "text": [
            "(3, 32, 32)\n",
            "<class 'numpy.uint8'>\n"
          ]
        },
        {
          "output_type": "display_data",
          "data": {
            "image/png": "[encoded data removed]",
            "text/plain": [
              "<Figure size 432x288 with 1 Axes>"
            ]
          },
          "metadata": {}
        }
      ],
      "source": [
        "combinedImageWork = np.zeros((3,32,32),dtype=np.uint8)\n",
        "combinedLabelWork = np.zeros((3),dtype=np.str_)\n",
        "combinedImageWork, combinedLabelWork = combine3Images(29400,22329)\n",
        "plt.title(' Label: %s' % ( combinedLabelWork[2]))\n",
        "plt.imshow(combinedImageWork[2], cmap=plt.cm.gray_r)\n",
        "print(combinedImageWork.shape)\n",
        "print(type(combinedLabelWork[1]))"
      ]
    },
    {
      "cell_type": "code",
      "execution_count": null,
      "metadata": {
        "id": "yFz8iFiNBVh9"
      },
      "outputs": [],
      "source": [
        "#v2 for test data\n",
        "import math\n",
        "combinedImage = np.zeros((3,32,32),dtype=np.uint8)\n",
        "combinedLabel = np.zeros((3),dtype=np.uint8)\n",
        "def combine3ImagesTest(firstImagePos,secondImagePos):   ##combined 3 array in numpy and display\n",
        "    \n",
        "    image = test['features'][firstImagePos].squeeze()\n",
        "    image2 = test['features'][secondImagePos].squeeze()\n",
        "    fileName = randomMathSign()\n",
        "    image30 = getDataMathImages(fileName)\n",
        "    image30 = image30[:, :, 0]\n",
        "    image3 = blackToWhite(image30);\n",
        "    combinedImage[0] = image;\n",
        "    combinedLabel[0] = test['labels'][firstImagePos];\n",
        "    combinedLabel[2] = test['labels'][secondImagePos];\n",
        "    combinedImage[1] = image3;\n",
        "    combinedImage[2] = image2;\n",
        "    if(fileName.find(\"div\") != -1):\n",
        "      combinedLabel[1] = 11\n",
        "    elif(fileName.find(\"plus\") != -1):\n",
        "      combinedLabel[1] = 14\n",
        "    elif(fileName.find(\"times\") != -1):\n",
        "      combinedLabel[1] = 17\n",
        "    elif(fileName.find(\"minus\") != -1):\n",
        "      combinedLabel[1] = 20\n",
        "    return combinedImage, combinedLabel"
      ]
    },
    {
      "cell_type": "code",
      "execution_count": null,
      "metadata": {
        "colab": {
          "base_uri": "https://localhost:8080/",
          "height": 316
        },
        "id": "EaEpXn8ABdXA",
        "outputId": "b558cbc8-96aa-4282-ab07-aff9e1640a64"
      },
      "outputs": [
        {
          "output_type": "stream",
          "name": "stdout",
          "text": [
            "(3, 32, 32)\n",
            "<class 'numpy.uint8'>\n"
          ]
        },
        {
          "output_type": "display_data",
          "data": {
            "image/png": "[encoded data removed]",
            "text/plain": [
              "<Figure size 432x288 with 1 Axes>"
            ]
          },
          "metadata": {}
        }
      ],
      "source": [
        "combinedImageWork = np.zeros((3,32,32),dtype=np.uint8)\n",
        "combinedLabelWork = np.zeros((3),dtype=np.str_)\n",
        "combinedImageWork, combinedLabelWork = combine3ImagesTest(5000,2500)\n",
        "plt.title(' Label: %s' % ( combinedLabelWork[1]))\n",
        "plt.imshow(combinedImageWork[1], cmap=plt.cm.gray_r)\n",
        "print(combinedImageWork.shape)\n",
        "print(type(combinedLabelWork[1]))"
      ]
    },
    {
      "cell_type": "markdown",
      "metadata": {
        "id": "rlK-fclXnqy3"
      },
      "source": [
        ">>>ascii charater to string  \n",
        "asd=42\n",
        "\n",
        "\n",
        ">>> print(chr(asd))\n",
        "*\n",
        ">>>"
      ]
    },
    {
      "cell_type": "code",
      "execution_count": null,
      "metadata": {
        "colab": {
          "base_uri": "https://localhost:8080/"
        },
        "id": "k2Jq7YJVjI1t",
        "outputId": "aa7bdac6-be1f-4dcc-ed4e-814970dfdfe8"
      },
      "outputs": [
        {
          "output_type": "stream",
          "name": "stdout",
          "text": [
            "<class 'numpy.ndarray'>\n",
            "<class 'numpy.uint8'>\n",
            "(32, 32)\n"
          ]
        }
      ],
      "source": [
        "#11\n",
        "#foo and fooLabel is fulled\n",
        "import random\n",
        "import numpy as np\n",
        "\n",
        "i=0   #first digit of data\n",
        "j=0   #second digit of data\n",
        "k=0  #for 1000 sample\n",
        "trainDataImage = np.zeros((300000,32,32),dtype=np.uint8)\n",
        "trainDataLabel = np.zeros((300000),dtype=np.uint8)\n",
        "index=0\n",
        "while(i<10):#first digit of pictures and labels\n",
        "  #data selection for first digit\n",
        "  if(i==0):\n",
        "    dataSource=resultOfZeros\n",
        "  elif(i==1):\n",
        "    dataSource=resultOfOnes \n",
        "  elif(i==2):\n",
        "    dataSource=resultOfTwos \n",
        "  elif(i==3):\n",
        "    dataSource=resultOfThrees\n",
        "  elif(i==4):\n",
        "    dataSource=resultOfFours \n",
        "  elif(i==5):\n",
        "    dataSource=resultOfFives \n",
        "  elif(i==6):\n",
        "    dataSource=resultOfSixes\n",
        "  elif(i==7):\n",
        "    dataSource=resultOfSevens \n",
        "  elif(i==8):\n",
        "    dataSource=resultOfEights\n",
        "  elif(i==9):\n",
        "    dataSource=resultOfNines \n",
        "  else:\n",
        "    print(\"Error occured when data source initialize in i\")\n",
        " \n",
        "  while(j<10):#second digit of pictures and labels\n",
        "    #data selection for second digit\n",
        "    if(j==0):\n",
        "      dataSource2=resultOfZeros\n",
        "    elif(j==1):\n",
        "      dataSource2=resultOfOnes \n",
        "    elif(j==2):\n",
        "      dataSource2=resultOfTwos \n",
        "    elif(j==3):\n",
        "      dataSource2=resultOfThrees\n",
        "    elif(j==4):\n",
        "      dataSource2=resultOfFours \n",
        "    elif(j==5):\n",
        "      dataSource2=resultOfFives \n",
        "    elif(j==6):\n",
        "      dataSource2=resultOfSixes\n",
        "    elif(j==7):\n",
        "      dataSource2=resultOfSevens \n",
        "    elif(j==8):\n",
        "      dataSource2=resultOfEights\n",
        "    elif(j==9):\n",
        "      dataSource2=resultOfNines \n",
        "    else:\n",
        "      print(\"Error occured when data source initialize in j\")\n",
        "    while(k<1000): #combined pictures and assign an array\n",
        "      firstPosition = dataSource[0][random.randint(0, len(dataSource[0])-1)]\n",
        "      secondPosition = dataSource2[0][random.randint(0, len(dataSource2[0])-1)]\n",
        "      combinedImage, combinedLabel = combine3Images(firstPosition,secondPosition)\n",
        "      i2=0\n",
        "      while(i2<3):\n",
        "        #print(\"index of :\" + str(index)+\" i: \"+str(i)+\" j: \"+str(j)+\" k: \"+str(k))\n",
        "        trainDataImage[index] = combinedImage[i2]\n",
        "        trainDataLabel[index] = combinedLabel[i2]\n",
        "        index+=1;\n",
        "        i2+=1\n",
        "      k=k+1\n",
        "    k=0\n",
        "    j=j+1\n",
        "  j=0\n",
        "  i=i+1\n",
        "\n",
        "\n",
        "print(type(trainDataImage[0]))\n",
        "print(type(trainDataLabel[0]))\n",
        "print(trainDataImage[0].shape)"
      ]
    },
    {
      "cell_type": "code",
      "execution_count": null,
      "metadata": {
        "id": "dcVFF0UiCQfo"
      },
      "outputs": [],
      "source": [
        "#11\n",
        "#foo and fooLabel is fulled\n",
        "#for test\n",
        "import random\n",
        "import numpy as np\n",
        "\n",
        "i=0   #first digit of data\n",
        "j=0   #second digit of data\n",
        "k=0  #for 100 sample\n",
        "testDataImage = np.zeros((30000,32,32),dtype=np.uint8)\n",
        "testDataLabel = np.zeros((30000),dtype=np.uint8)\n",
        "index=0\n",
        "while(i<10):#first digit of pictures and labels\n",
        "  #data selection for first digit\n",
        "  if(i==0):\n",
        "    dataSource=resultOfZerosTest\n",
        "  elif(i==1):\n",
        "    dataSource=resultOfOnesTest \n",
        "  elif(i==2):\n",
        "    dataSource=resultOfTwosTest\n",
        "  elif(i==3):\n",
        "    dataSource=resultOfThreesTest\n",
        "  elif(i==4):\n",
        "    dataSource=resultOfFoursTest \n",
        "  elif(i==5):\n",
        "    dataSource=resultOfFivesTest \n",
        "  elif(i==6):\n",
        "    dataSource=resultOfSixesTest\n",
        "  elif(i==7):\n",
        "    dataSource=resultOfSevensTest \n",
        "  elif(i==8):\n",
        "    dataSource=resultOfEightsTest\n",
        "  elif(i==9):\n",
        "    dataSource=resultOfNinesTest \n",
        "  else:\n",
        "    print(\"Error occured when data source initialize in i\")\n",
        " \n",
        "  while(j<10):#second digit of pictures and labels\n",
        "    #data selection for second digit\n",
        "    if(j==0):\n",
        "      dataSource2=resultOfZerosTest\n",
        "    elif(j==1):\n",
        "      dataSource2=resultOfOnesTest \n",
        "    elif(j==2):\n",
        "      dataSource2=resultOfTwosTest \n",
        "    elif(j==3):\n",
        "      dataSource2=resultOfThreesTest\n",
        "    elif(j==4):\n",
        "      dataSource2=resultOfFoursTest \n",
        "    elif(j==5):\n",
        "      dataSource2=resultOfFivesTest \n",
        "    elif(j==6):\n",
        "      dataSource2=resultOfSixesTest\n",
        "    elif(j==7):\n",
        "      dataSource2=resultOfSevensTest \n",
        "    elif(j==8):\n",
        "      dataSource2=resultOfEightsTest\n",
        "    elif(j==9):\n",
        "      dataSource2=resultOfNinesTest \n",
        "    else:\n",
        "      print(\"Error occured when data source initialize in j\")\n",
        "    while(k<100): #combined pictures and assign an array\n",
        "      firstPosition = dataSource[0][random.randint(0, len(dataSource[0])-1)]\n",
        "      secondPosition = dataSource2[0][random.randint(0, len(dataSource2[0])-1)]\n",
        "      combinedImage, combinedLabel = combine3ImagesTest(firstPosition,secondPosition)\n",
        "      i2=0\n",
        "      while(i2<3):\n",
        "        print(\"index of :\" + str(index)+\" i: \"+str(i)+\" j: \"+str(j)+\" k: \"+str(k))\n",
        "        testDataImage[index] = combinedImage[i2]\n",
        "        testDataLabel[index] = combinedLabel[i2]\n",
        "        index+=1;\n",
        "        i2+=1\n",
        "      k=k+1\n",
        "    k=0\n",
        "    j=j+1\n",
        "  j=0\n",
        "  i=i+1\n",
        "\n",
        "\n",
        "print(type(testDataImage[0]))\n",
        "print(type(testDataLabel[0]))\n",
        "print(testDataImage[0].shape)"
      ]
    },
    {
      "cell_type": "markdown",
      "metadata": {
        "id": "mn2pLifVqC-w"
      },
      "source": [
        "split input photo with using this link\n",
        "\n",
        "https://kanoki.org/2020/06/11/how-to-split-numpy-arrays/"
      ]
    },
    {
      "cell_type": "code",
      "execution_count": null,
      "metadata": {
        "colab": {
          "base_uri": "https://localhost:8080/",
          "height": 300
        },
        "id": "We8GoUtwibyr",
        "outputId": "434d284e-f952-4b54-8558-2fff117bea71"
      },
      "outputs": [
        {
          "output_type": "execute_result",
          "data": {
            "text/plain": [
              "<matplotlib.image.AxesImage at 0x7f847dccb210>"
            ]
          },
          "metadata": {},
          "execution_count": 28
        },
        {
          "output_type": "display_data",
          "data": {
            "image/png": "[encoded data removed]",
            "text/plain": [
              "<Figure size 432x288 with 1 Axes>"
            ]
          },
          "metadata": {}
        }
      ],
      "source": [
        "#display random foo value\n",
        "i=254683\n",
        "#plt.title(' Label: %d' % ( fooLabel[i]))\n",
        "plt.title(\" Label: \"+ str(trainDataLabel[i]))\n",
        "plt.imshow(trainDataImage[i], cmap=plt.cm.gray_r)"
      ]
    },
    {
      "cell_type": "code",
      "execution_count": null,
      "metadata": {
        "id": "q6-uwngHMwdm"
      },
      "outputs": [],
      "source": [
        "#12\n",
        "import tensorflow as tf\n",
        "from tensorflow.keras import Model\n",
        "from tensorflow.keras.models import Sequential\n",
        "from tensorflow.keras.layers import Dense, Flatten, Conv2D, AveragePooling2D, MaxPool2D"
      ]
    },
    {
      "cell_type": "code",
      "execution_count": null,
      "metadata": {
        "id": "k8G-fXTk-7op"
      },
      "outputs": [],
      "source": [
        "#15\n",
        "#v2\n",
        "#from https://www.machinecurve.com/index.php/2020/02/18/how-to-use-k-fold-cross-validation-with-keras/\n",
        "\n",
        "from tensorflow.keras.models import Sequential\n",
        "from tensorflow.keras.layers import Dense, Flatten, Conv2D, MaxPooling2D\n",
        "from tensorflow.keras.losses import sparse_categorical_crossentropy\n",
        "from tensorflow.keras.optimizers import Adam\n",
        "from keras.layers import Dropout\n",
        "from sklearn.model_selection import KFold\n",
        "import numpy as np\n",
        "import gzip\n",
        "import numpy as np\n",
        "import pandas as pd\n",
        "from time import time\n",
        "\n",
        "from sklearn.model_selection import train_test_split\n",
        "import tensorflow as tf\n",
        "import keras\n",
        "import keras.layers as layers\n",
        "from keras.models import Sequential\n",
        "from keras.preprocessing.image import ImageDataGenerator\n",
        "from keras.utils.np_utils import to_categorical\n",
        "from keras.callbacks import TensorBoard\n",
        "\n",
        "%matplotlib inline\n",
        "import matplotlib.pyplot as plt\n",
        "import seaborn as sns\n",
        "\n",
        "\n",
        "# change type to uint8 to float32\n",
        "trainDataImage = trainDataImage.astype('float32')\n",
        "testDataImage = testDataImage.astype('float32')\n",
        "\n",
        "#image to gray scale\n",
        "trainDataImage /= 255\n",
        "testDataImage /= 255\n",
        "\n",
        "# Define the model architecture\n",
        "def modelTrain():\n",
        "  \"\"\"model = keras.Sequential()\n",
        "\n",
        "  model.add(layers.Conv2D(filters=6, kernel_size=(3, 3), activation='relu',padding=\"same\", input_shape=(32,32,1)))\n",
        "  model.add(layers.AveragePooling2D())\n",
        "\n",
        "  model.add(layers.Conv2D(filters=16, kernel_size=(3, 3), activation='relu'))\n",
        "  model.add(layers.AveragePooling2D())\n",
        "\n",
        "  model.add(layers.Flatten())\n",
        "\n",
        "  model.add(layers.Dense(units=120, activation='relu'))\n",
        "\n",
        "  model.add(layers.Dense(units=84, activation='relu'))\n",
        "\n",
        "  model.add(layers.Dense(units=1, activation = 'linear'))\"\"\"\n",
        "  model = keras.Sequential()\n",
        "\n",
        "  model.add(layers.Conv2D(filters=6, kernel_size=(3, 3), activation='relu', input_shape=(32,32,1)))\n",
        "  model.add(layers.AveragePooling2D())\n",
        "\n",
        "  model.add(layers.Conv2D(filters=16, kernel_size=(3, 3), activation='relu'))\n",
        "  model.add(layers.AveragePooling2D())\n",
        "\n",
        "  model.add(layers.Flatten())\n",
        "\n",
        "  model.add(layers.Dense(units=256, activation='relu'))\n",
        "\n",
        "  model.add(layers.Dense(units=128, activation='relu'))\n",
        "\n",
        "  model.add(layers.Dense(units=25, activation = 'softmax'))\n",
        "\n",
        "  \"\"\"#https://www.kaggle.com/curiousprogrammer/lenet-5-cnn-with-keras-99-48\n",
        "  model = Sequential()\n",
        "  model.add(Conv2D(filters=32, kernel_size=(5,5), padding='same', activation='relu', input_shape=(32, 32, 1)))\n",
        "  model.add(MaxPool2D(strides=2))\n",
        "  model.add(Conv2D(filters=48, kernel_size=(5,5), padding='valid', activation='relu'))\n",
        "  model.add(MaxPool2D(strides=2))\n",
        "  model.add(Flatten())\n",
        "  model.add(Dense(256, activation='relu'))\n",
        "  model.add(Dense(84, activation='relu'))\n",
        "  model.add(Dense(10, activation='softmax'))\"\"\"\n",
        "  return model"
      ]
    },
    {
      "cell_type": "code",
      "execution_count": null,
      "metadata": {
        "colab": {
          "base_uri": "https://localhost:8080/"
        },
        "id": "y7poG8guPXD1",
        "outputId": "32c21eed-ddb9-40f3-f2b1-078529087ee1"
      },
      "outputs": [
        {
          "output_type": "stream",
          "name": "stdout",
          "text": [
            "Model: \"sequential\"\n",
            "_________________________________________________________________\n",
            " Layer (type)                Output Shape              Param #   \n",
            "=================================================================\n",
            " conv2d (Conv2D)             (None, 30, 30, 6)         60        \n",
            "                                                                 \n",
            " average_pooling2d (AverageP  (None, 15, 15, 6)        0         \n",
            " ooling2D)                                                       \n",
            "                                                                 \n",
            " conv2d_1 (Conv2D)           (None, 13, 13, 16)        880       \n",
            "                                                                 \n",
            " average_pooling2d_1 (Averag  (None, 6, 6, 16)         0         \n",
            " ePooling2D)                                                     \n",
            "                                                                 \n",
            " flatten (Flatten)           (None, 576)               0         \n",
            "                                                                 \n",
            " dense (Dense)               (None, 256)               147712    \n",
            "                                                                 \n",
            " dense_1 (Dense)             (None, 128)               32896     \n",
            "                                                                 \n",
            " dense_2 (Dense)             (None, 25)                3225      \n",
            "                                                                 \n",
            "=================================================================\n",
            "Total params: 184,773\n",
            "Trainable params: 184,773\n",
            "Non-trainable params: 0\n",
            "_________________________________________________________________\n"
          ]
        }
      ],
      "source": [
        "#before the 16\n",
        "#return model\n",
        "model = modelTrain()\n",
        "\n",
        "model.summary();"
      ]
    },
    {
      "cell_type": "code",
      "execution_count": null,
      "metadata": {
        "colab": {
          "base_uri": "https://localhost:8080/"
        },
        "id": "vtnfLEc3pGdS",
        "outputId": "32e69686-2919-4964-92b3-e8dd9952cf6c"
      },
      "outputs": [
        {
          "output_type": "stream",
          "name": "stdout",
          "text": [
            "Epoch 1/10\n",
            "2344/2344 [==============================] - 94s 40ms/step - loss: 0.1535 - accuracy: 0.9548 - val_loss: 0.0516 - val_accuracy: 0.9838\n",
            "Epoch 2/10\n",
            "2344/2344 [==============================] - 92s 39ms/step - loss: 0.0265 - accuracy: 0.9917 - val_loss: 0.0345 - val_accuracy: 0.9907\n",
            "Epoch 3/10\n",
            "2344/2344 [==============================] - 92s 39ms/step - loss: 0.0161 - accuracy: 0.9950 - val_loss: 0.0328 - val_accuracy: 0.9916\n",
            "Epoch 4/10\n",
            "2344/2344 [==============================] - 94s 40ms/step - loss: 0.0109 - accuracy: 0.9964 - val_loss: 0.0296 - val_accuracy: 0.9919\n",
            "Epoch 5/10\n",
            "2344/2344 [==============================] - 96s 41ms/step - loss: 0.0078 - accuracy: 0.9974 - val_loss: 0.0331 - val_accuracy: 0.9918\n",
            "Epoch 6/10\n",
            "2344/2344 [==============================] - 97s 41ms/step - loss: 0.0060 - accuracy: 0.9981 - val_loss: 0.0331 - val_accuracy: 0.9919\n",
            "Epoch 7/10\n",
            "2344/2344 [==============================] - 98s 42ms/step - loss: 0.0046 - accuracy: 0.9986 - val_loss: 0.0332 - val_accuracy: 0.9926\n",
            "Epoch 8/10\n",
            "2344/2344 [==============================] - 101s 43ms/step - loss: 0.0040 - accuracy: 0.9987 - val_loss: 0.0353 - val_accuracy: 0.9924\n",
            "Epoch 9/10\n",
            "2344/2344 [==============================] - 100s 42ms/step - loss: 0.0032 - accuracy: 0.9990 - val_loss: 0.0306 - val_accuracy: 0.9928\n",
            "Epoch 10/10\n",
            "2344/2344 [==============================] - 100s 42ms/step - loss: 0.0029 - accuracy: 0.9990 - val_loss: 0.0368 - val_accuracy: 0.9929\n"
          ]
        },
        {
          "output_type": "execute_result",
          "data": {
            "text/plain": [
              "<keras.callbacks.History at 0x7f8479b02710>"
            ]
          },
          "metadata": {},
          "execution_count": 32
        }
      ],
      "source": [
        "#16\n",
        "#start working on model\n",
        "\n",
        "#optimizer ada's parameter is set\n",
        "\"\"\"ada = tf.keras.optimizers.Adadelta(learning_rate=0.1, rho=0.95, epsilon=1e-08)\n",
        "\n",
        "#model compile parameters is set\n",
        "model.compile(optimizer=ada,\n",
        "              loss=tf.keras.losses.mean_squared_error,\n",
        "              metrics=['accuracy'])\n",
        "              \"\"\"\n",
        "#model.compile(loss=\"categorical_crossentropy\", optimizer=\"adam\", metrics=['accuracy'])\n",
        "model.compile(optimizer='adam',\n",
        "              loss='sparse_categorical_crossentropy',\n",
        "              metrics=['accuracy'])\n",
        "#fitting model with trainData, testData and some parameters\n",
        "model.fit(trainDataImage, trainDataLabel, \n",
        "          epochs=10,\n",
        "          batch_size=128, \n",
        "          validation_data=(testDataImage, testDataLabel))"
      ]
    },
    {
      "cell_type": "code",
      "execution_count": null,
      "metadata": {
        "colab": {
          "base_uri": "https://localhost:8080/"
        },
        "id": "o93fc2Q5Eyds",
        "outputId": "f187add4-e304-42e2-f385-c79e28b277dc"
      },
      "outputs": [
        {
          "output_type": "stream",
          "name": "stdout",
          "text": [
            "938/938 [==============================] - 7s 8ms/step - loss: 0.0368 - accuracy: 0.9929\n"
          ]
        },
        {
          "output_type": "execute_result",
          "data": {
            "text/plain": [
              "[0.036832015961408615, 0.992900013923645]"
            ]
          },
          "metadata": {},
          "execution_count": 34
        }
      ],
      "source": [
        "model.evaluate(testDataImage, testDataLabel)"
      ]
    },
    {
      "cell_type": "code",
      "execution_count": null,
      "metadata": {
        "id": "z_fQmFuuO1nF"
      },
      "outputs": [],
      "source": [
        "#v2 for test data\n",
        "import math\n",
        "combinedImage = np.zeros((32,96),dtype=np.uint8)\n",
        "combinedLabel = np.zeros((1),dtype=np.uint8)\n",
        "def combineTestData(firstImagePosition):   ##combined 3 array in numpy and display\n",
        "    firstImagePos = firstImagePosition*3\n",
        "    image = testDataImage[firstImagePos].squeeze()\n",
        "    mathOperand = testDataImage[firstImagePos+1].squeeze()\n",
        "    image2 = testDataImage[firstImagePos+2].squeeze()\n",
        "    image4 = (np.hstack((image, mathOperand)))\n",
        "    combinedImage = (np.hstack((image4, image2)))\n",
        "    if(testDataLabel[firstImagePos+1]==11):\n",
        "      if(testDataLabel[firstImagePos+2]==0):\n",
        "        combinedLabel=math.inf\n",
        "      else:\n",
        "        combinedLabel = int(testDataLabel[firstImagePos])/int(testDataLabel[firstImagePos+2])\n",
        "    elif(testDataLabel[firstImagePos+1]==14):\n",
        "      combinedLabel = int(testDataLabel[firstImagePos])+int(testDataLabel[firstImagePos+2])\n",
        "    elif(testDataLabel[firstImagePos+1]==17):\n",
        "      combinedLabel = int(testDataLabel[firstImagePos])*int(testDataLabel[firstImagePos+2])\n",
        "    elif(testDataLabel[firstImagePos+1]==20):\n",
        "      combinedLabel = int(testDataLabel[firstImagePos])-int(testDataLabel[firstImagePos+2])\n",
        "    return combinedImage, combinedLabel"
      ]
    },
    {
      "cell_type": "code",
      "execution_count": null,
      "metadata": {
        "id": "qNfH87goxuuL"
      },
      "outputs": [],
      "source": [
        "def seperating3Picture(testImageArray):\n",
        "  testImageArray = np.zeros((3,32,32),dtype=np.uint8)\n",
        "  testImageArray = np.hsplit(combinedImage,3)\n",
        "  testImageArray = np.array(testImageArray)\n",
        "  return testImageArray;"
      ]
    },
    {
      "cell_type": "code",
      "execution_count": null,
      "metadata": {
        "colab": {
          "base_uri": "https://localhost:8080/",
          "height": 309
        },
        "id": "RFaCyKGiQf3h",
        "outputId": "d1b66369-7769-4ff7-c0c9-41a44b6898aa"
      },
      "outputs": [
        {
          "output_type": "stream",
          "name": "stdout",
          "text": [
            "[1.99458262e-11 2.66546507e-11 5.29268906e-10 1.60590324e-04\n",
            " 3.35601385e-07 2.57507828e-08 8.13816720e-14 1.82050142e-09\n",
            " 4.05027052e-08 9.99839067e-01 1.68445919e-13 4.82386975e-09\n",
            " 1.39656963e-13 9.72038273e-14 3.54834955e-15 2.38383087e-15\n",
            " 9.46838585e-15 1.17784726e-14 7.29825864e-15 1.66353002e-13\n",
            " 1.61445724e-16 6.57401650e-14 2.49521822e-12 5.99237863e-15\n",
            " 2.80505023e-14]\n",
            "9\n"
          ]
        },
        {
          "output_type": "display_data",
          "data": {
            "image/png": "[encoded data removed]",
            "text/plain": [
              "<Figure size 432x288 with 1 Axes>"
            ]
          },
          "metadata": {
            "needs_background": "light"
          }
        }
      ],
      "source": [
        "#display random foo value\n",
        "combinedImage,combinedLabel = combineTestData(9875)\n",
        "#plt.title(' Label: %d' % ( fooLabel[i]))\n",
        "plt.title(\" Label: \"+ str(combinedLabel))\n",
        "plt.imshow(combinedImage, cmap=plt.cm.gray_r)\n",
        "\n",
        "\"\"\"testImageArray = np.zeros((3,32,32),dtype=np.uint8)\n",
        "testImageArray = np.hsplit(combinedImage,3)\n",
        "testImageArray = np.array(testImageArray)\"\"\"\n",
        "testImageArray = seperating3Picture(combinedImage)\n",
        "prediction = model.predict(testImageArray)\n",
        "print(str(prediction[0]))\n",
        "print(str(np.argmax(prediction[0])))"
      ]
    },
    {
      "cell_type": "code",
      "execution_count": null,
      "metadata": {
        "id": "khlGBVeMeGM-"
      },
      "outputs": [],
      "source": [
        "  index23=0\n",
        "  combinedImage,combinedLabel = combineTestData(index23)\n",
        "  testImageArray = np.zeros((3,32,32),dtype=np.uint8)\n",
        "  testImageArray = np.hsplit(combinedImage,3)\n",
        "  testImageArray = np.array(testImageArray)\n",
        "  prediction = model.predict(testImageArray)"
      ]
    },
    {
      "cell_type": "code",
      "source": [
        "  index=485\n",
        "  combinedImage,combinedLabel = combineTestData(index)\n",
        "  plt.title(\" Label: \"+ str(combinedLabel))\n",
        "  plt.imshow(combinedImage, cmap=plt.cm.gray_r)\n",
        "  testImageArray = seperating3Picture(combinedImage)\n",
        "  prediction = model.predict(testImageArray)\n",
        "  divideOperand = abs(float(np.argmax(prediction[1]))-11)\n",
        "  plusOperand = abs(float(np.argmax(prediction[1]))-14)\n",
        "  timesOperand = abs(float(np.argmax(prediction[1]))-17)\n",
        "  minusOperand = abs(float(np.argmax(prediction[1]))-20)\n",
        "  if(divideOperand<plusOperand and divideOperand<timesOperand and divideOperand<minusOperand): \n",
        "    if(round(float(np.argmax(prediction[2]))) != 0):\n",
        "      predictionResult = round(float(np.argmax(prediction[0])))/round(float(np.argmax(prediction[2])))\n",
        "    else:\n",
        "      predictionResult = math.inf\n",
        "  elif(plusOperand<divideOperand and plusOperand<timesOperand and plusOperand<minusOperand):\n",
        "    predictionResult = round(float(np.argmax(prediction[0])))+round(float(np.argmax(prediction[2])))\n",
        "  elif(timesOperand<divideOperand and timesOperand<plusOperand and timesOperand<minusOperand):\n",
        "    predictionResult = round(float(np.argmax(prediction[0])))*round(float(np.argmax(prediction[2])))\n",
        "  elif(minusOperand<divideOperand and minusOperand<plusOperand and minusOperand<timesOperand):\n",
        "    predictionResult = round(float(np.argmax(prediction[0])))-round(float(np.argmax(prediction[2])))\n",
        "  else:\n",
        "    predictionResult=100;\n",
        "  \n",
        "  print(predictionResult)"
      ],
      "metadata": {
        "colab": {
          "base_uri": "https://localhost:8080/",
          "height": 194
        },
        "id": "XA5m5ju0gESE",
        "outputId": "139d99ab-ad28-4cd1-b115-491e2b78292c"
      },
      "execution_count": null,
      "outputs": [
        {
          "output_type": "stream",
          "name": "stdout",
          "text": [
            "6\n"
          ]
        },
        {
          "output_type": "display_data",
          "data": {
            "image/png": "[encoded data removed]",
            "text/plain": [
              "<Figure size 432x288 with 1 Axes>"
            ]
          },
          "metadata": {
            "needs_background": "light"
          }
        }
      ]
    },
    {
      "cell_type": "code",
      "execution_count": null,
      "metadata": {
        "colab": {
          "base_uri": "https://localhost:8080/"
        },
        "id": "BNKcbWm5RUmg",
        "outputId": "dcba9c66-72b2-439c-c133-b057d8866dd4"
      },
      "outputs": [
        {
          "output_type": "stream",
          "name": "stdout",
          "text": [
            "39\n",
            "485\n",
            "522\n",
            "557\n",
            "639\n",
            "660\n",
            "1133\n",
            "1143\n",
            "1226\n",
            "1289\n",
            "1299\n",
            "1439\n",
            "1460\n",
            "1473\n",
            "1479\n",
            "1487\n",
            "1490\n",
            "1599\n",
            "1626\n",
            "1673\n",
            "1678\n",
            "1684\n",
            "1706\n",
            "1742\n",
            "1776\n",
            "1799\n",
            "1812\n",
            "1819\n",
            "1833\n",
            "1857\n",
            "1870\n",
            "1979\n",
            "2017\n",
            "2105\n",
            "2134\n",
            "2159\n",
            "2345\n",
            "2409\n",
            "2509\n",
            "2526\n",
            "2613\n",
            "2693\n",
            "2734\n",
            "2753\n",
            "2763\n",
            "2834\n",
            "2873\n",
            "2923\n",
            "2927\n",
            "2943\n",
            "3128\n",
            "3418\n",
            "3481\n",
            "3511\n",
            "3527\n",
            "3563\n",
            "3585\n",
            "3639\n",
            "3649\n",
            "3841\n",
            "3886\n",
            "3901\n",
            "3904\n",
            "3971\n",
            "4041\n",
            "4103\n",
            "4110\n",
            "4145\n",
            "4167\n",
            "4209\n",
            "4210\n",
            "4223\n",
            "4278\n",
            "4290\n",
            "4353\n",
            "4434\n",
            "4449\n",
            "4463\n",
            "4513\n",
            "4639\n",
            "4652\n",
            "4657\n",
            "4663\n",
            "4688\n",
            "4694\n",
            "4702\n",
            "4714\n",
            "4797\n",
            "4804\n",
            "4821\n",
            "4855\n",
            "4862\n",
            "4875\n",
            "4881\n",
            "4903\n",
            "5059\n",
            "5106\n",
            "5199\n",
            "5271\n",
            "5436\n",
            "5465\n",
            "5473\n",
            "5483\n",
            "5696\n",
            "5711\n",
            "5723\n",
            "5778\n",
            "5836\n",
            "5857\n",
            "5897\n",
            "5918\n",
            "5960\n",
            "5971\n",
            "5976\n",
            "5996\n",
            "6010\n",
            "6139\n",
            "6148\n",
            "6152\n",
            "6250\n",
            "6251\n",
            "6449\n",
            "6470\n",
            "6475\n",
            "6488\n",
            "6497\n",
            "6500\n",
            "6513\n",
            "6571\n",
            "6620\n",
            "6652\n",
            "6725\n",
            "6797\n",
            "6838\n",
            "6842\n",
            "6848\n",
            "6902\n",
            "6911\n",
            "6945\n",
            "7144\n",
            "7145\n",
            "7149\n",
            "7186\n",
            "7214\n",
            "7238\n",
            "7291\n",
            "7354\n",
            "7368\n",
            "7481\n",
            "7492\n",
            "7650\n",
            "7657\n",
            "7752\n",
            "7780\n",
            "7815\n",
            "7829\n",
            "7857\n",
            "7875\n",
            "7877\n",
            "8147\n",
            "8163\n",
            "8389\n",
            "8436\n",
            "8437\n",
            "8457\n",
            "8464\n",
            "8515\n",
            "8570\n",
            "8599\n",
            "8622\n",
            "8666\n",
            "8676\n",
            "8725\n",
            "8778\n",
            "8789\n",
            "8863\n",
            "8930\n",
            "9073\n",
            "9171\n",
            "9190\n",
            "9242\n",
            "9286\n",
            "9314\n",
            "9333\n",
            "9368\n",
            "9403\n",
            "9408\n",
            "9418\n",
            "9439\n",
            "9441\n",
            "9443\n",
            "9447\n",
            "9465\n",
            "9469\n",
            "9480\n",
            "9494\n",
            "9548\n",
            "9570\n",
            "9571\n",
            "9604\n",
            "9866\n",
            "9963\n",
            "Correction : 9798\n",
            "unassignedOperand : 0\n"
          ]
        }
      ],
      "source": [
        "import math\n",
        "testIndex=0\n",
        "correctResult=0;\n",
        "falseResult=0;\n",
        "unassignedOperand=0;\n",
        "f = open(\"/content/drive/MyDrive/neuralNetworks/log.txt\", \"w\")\n",
        "while(testIndex<10000):\n",
        "  combinedImage,combinedLabel = combineTestData(testIndex)\n",
        "  #print(testIndex)\n",
        "  \"\"\"testImageArray = np.zeros((3,32,32),dtype=np.uint8)\n",
        "  testImageArray = np.hsplit(combinedImage,3)\n",
        "  testImageArray = np.array(testImageArray)\"\"\"\n",
        "  testImageArray = seperating3Picture(combinedImage)\n",
        "  prediction = model.predict(testImageArray)\n",
        "  #print(testImageArray[0].shape)\n",
        "  #print(np.argmax(prediction[1]))\n",
        "  f.write(\"Test Index: \"+str(testIndex)+\"\\n\")\n",
        "  f.write(\"prediction0 : \"+str(prediction[0])+\" maxIndex0: \"+ str(np.argmax(prediction[0]))+\"\\n\")\n",
        "  f.write(\"prediction1 : \"+str(prediction[1])+\" maxIndex1: \"+ str(np.argmax(prediction[1]))+\"\\n\")\n",
        "  f.write(\"prediction2 : \"+str(prediction[2])+\" maxIndex2: \"+ str(np.argmax(prediction[2]))+\"\\n\")\n",
        "  divideOperand = abs(float(np.argmax(prediction[1]))-11)\n",
        "  plusOperand = abs(float(np.argmax(prediction[1]))-14)\n",
        "  timesOperand = abs(float(np.argmax(prediction[1]))-17)\n",
        "  minusOperand = abs(float(np.argmax(prediction[1]))-20)\n",
        "  if(divideOperand<plusOperand and divideOperand<timesOperand and divideOperand<minusOperand): \n",
        "    if(round(float(np.argmax(prediction[2]))) != 0):\n",
        "      predictionResult = round(float(np.argmax(prediction[0])))/round(float(np.argmax(prediction[2])))\n",
        "    else:\n",
        "      predictionResult = math.inf\n",
        "  elif(plusOperand<divideOperand and plusOperand<timesOperand and plusOperand<minusOperand):\n",
        "    predictionResult = round(float(np.argmax(prediction[0])))+round(float(np.argmax(prediction[2])))\n",
        "  elif(timesOperand<divideOperand and timesOperand<plusOperand and timesOperand<minusOperand):\n",
        "    predictionResult = round(float(np.argmax(prediction[0])))*round(float(np.argmax(prediction[2])))\n",
        "  elif(minusOperand<divideOperand and minusOperand<plusOperand and minusOperand<timesOperand):\n",
        "    predictionResult = round(float(np.argmax(prediction[0])))-round(float(np.argmax(prediction[2])))\n",
        "  else:\n",
        "    predictionResult=100;\n",
        "    print(\"There is a problem index: \"+ str(testIndex))\n",
        "\n",
        "\n",
        "  f.write(\"testIndex: \"+str(testIndex)+\" predictionResult: \" +str(predictionResult)+\" ,predicction0: \"+str(np.argmax(prediction[0]))+\" ,predicction1: \"+str(np.argmax(prediction[1]))+\" ,predicction2: \"+str(np.argmax(prediction[2]))+\" ,combinedLabel: \"+str(combinedLabel)+\" ,testDataLabel0: \"+str(testDataLabel[testIndex*3])+\" ,testDataLabel1: \"+str(testDataLabel[testIndex*3+1])+\" ,testDataLabel2: \"+str(testDataLabel[testIndex*3+2])+\"\\n\\n\")\n",
        "\n",
        "  if(combinedLabel == predictionResult):\n",
        "    correctResult+=1;\n",
        "  elif(predictionResult == 100):\n",
        "    unassignedOperand+=1\n",
        "  else:\n",
        "    falseResult+=1;\n",
        "    print(testIndex)\n",
        "  \n",
        "  testIndex +=1\n",
        "f.write(\"\\n\"+\"Correction : \" + str(correctResult))\n",
        "f.close()\n",
        "print(\"Correction : \" + str(correctResult))\n",
        "print(\"unassignedOperand : \" + str(unassignedOperand))"
      ]
    },
    {
      "cell_type": "code",
      "execution_count": null,
      "metadata": {
        "colab": {
          "base_uri": "https://localhost:8080/",
          "height": 332
        },
        "id": "JEJ39B3avgF3",
        "outputId": "3209d2da-d55c-453d-9d24-dcbd7e6e8d4d"
      },
      "outputs": [
        {
          "name": "stdout",
          "output_type": "stream",
          "text": [
            "<class 'numpy.ndarray'>\n",
            "(30000, 28, 28)\n",
            "[-1.1279818]\n"
          ]
        },
        {
          "data": {
            "image/png": "[encoded data removed]",
            "text/plain": [
              "<Figure size 432x288 with 1 Axes>"
            ]
          },
          "metadata": {},
          "output_type": "display_data"
        }
      ],
      "source": [
        "#17\n",
        "#predictions checking\n",
        "print(type(testDataImage))\n",
        "print(testDataImage.shape)\n",
        "prediction = model.predict(testDataImage)\n",
        "print(prediction[756])\n",
        "plt.title('Label: %d' %  testDataLabel[756])\n",
        "#plt.imshow(foo[56664].squeeze(), cmap=plt.cm.gray_r)\n",
        "plt.imshow(testDataImage[756].squeeze(),cmap=plt.cm.binary)\n",
        "plt.show()"
      ]
    },
    {
      "cell_type": "code",
      "execution_count": null,
      "metadata": {
        "colab": {
          "base_uri": "https://localhost:8080/",
          "height": 301
        },
        "id": "NbdIUuTGF-p_",
        "outputId": "2b4ee682-7f39-421c-db48-e1e5d464d497"
      },
      "outputs": [
        {
          "name": "stdout",
          "output_type": "stream",
          "text": [
            "[45.47782]\n"
          ]
        },
        {
          "data": {
            "image/png": "[encoded data removed]",
            "text/plain": [
              "<Figure size 432x288 with 1 Axes>"
            ]
          },
          "metadata": {},
          "output_type": "display_data"
        }
      ],
      "source": [
        "print(prediction[757])\n",
        "plt.title('Label: %d' %  testDataLabel[757])\n",
        "#plt.imshow(foo[56664].squeeze(), cmap=plt.cm.gray_r)\n",
        "plt.imshow(testDataImage[757].squeeze(),cmap=plt.cm.binary)\n",
        "plt.show()"
      ]
    },
    {
      "cell_type": "code",
      "execution_count": null,
      "metadata": {
        "colab": {
          "base_uri": "https://localhost:8080/",
          "height": 301
        },
        "id": "oM0_1hYcGM99",
        "outputId": "3e5f1a60-8fdc-4987-d198-2ed315e1f486"
      },
      "outputs": [
        {
          "name": "stdout",
          "output_type": "stream",
          "text": [
            "[4.574255]\n"
          ]
        },
        {
          "data": {
            "image/png": "[encoded data removed]",
            "text/plain": [
              "<Figure size 432x288 with 1 Axes>"
            ]
          },
          "metadata": {},
          "output_type": "display_data"
        }
      ],
      "source": [
        "print(prediction[758])\n",
        "plt.title('Label: %d' %  testDataLabel[758])\n",
        "#plt.imshow(foo[56664].squeeze(), cmap=plt.cm.gray_r)\n",
        "plt.imshow(testDataImage[758].squeeze(),cmap=plt.cm.binary)\n",
        "plt.show()"
      ]
    },
    {
      "cell_type": "code",
      "execution_count": null,
      "metadata": {
        "colab": {
          "base_uri": "https://localhost:8080/"
        },
        "id": "2MVUEl7Sq4ro",
        "outputId": "83146c18-644b-4747-8825-fd88a8f16403"
      },
      "outputs": [
        {
          "name": "stdout",
          "output_type": "stream",
          "text": [
            "Floored or ceiled prediction is correct = 0 accuracy in 10000 samples is %0.0\n",
            "Rounded prediction is correct = 0 accuracy in 10000 samples is %0.0\n"
          ]
        }
      ],
      "source": [
        "#18 \n",
        "# get the accuracy of the model\n",
        "from math import floor,ceil\n",
        "i=0\n",
        "floorCeilNum=0\n",
        "roundNum=0\n",
        "while(i<10000):\n",
        "  if(floor(predictions[i]) == testDataLabel[i] or ceil(predictions[i]) == testDataLabel[i]):\n",
        "    floorCeilNum+=1\n",
        "  if(round(float(predictions[i])) == testDataLabel[i]):\n",
        "    roundNum+=1\n",
        "  i+=1\n",
        "print(\"Floored or ceiled prediction is correct = \" +str(floorCeilNum)+\" accuracy in 10000 samples is %\" +str(floorCeilNum/100))\n",
        "print(\"Rounded prediction is correct = \" +str(roundNum)+\" accuracy in 10000 samples is %\" +str(roundNum/100))"
      ]
    },
    {
      "cell_type": "code",
      "execution_count": null,
      "metadata": {
        "id": "SaxapSbHgyD2"
      },
      "outputs": [],
      "source": [
        "#alternative version v1\n",
        "#source : https://www.kaggle.com/curiousprogrammer/lenet-5-cnn-with-keras-99-48\n",
        "\n",
        "from tensorflow.keras.models import Sequential\n",
        "from tensorflow.keras.layers import Dense, Flatten, Conv2D, MaxPooling2D\n",
        "from tensorflow.keras.losses import sparse_categorical_crossentropy\n",
        "from tensorflow.keras.optimizers import Adam\n",
        "from sklearn.model_selection import KFold\n",
        "import numpy as np\n",
        "\n",
        "# change type to uint8 to float32\n",
        "trainDataImage = trainDataImage.astype('float32')\n",
        "testDataImage = testDataImage.astype('float32')\n",
        "\n",
        "#image to gray scale\n",
        "trainDataImage /= 255\n",
        "testDataImage /= 255\n",
        "\n",
        "def modelTrain():\n",
        "  # Define the K-fold Cross Validator\n",
        "  #10-fold Cross Calidator\n",
        "  kfold = KFold(n_splits=10, shuffle=True)\n",
        "\n",
        "  # K-fold Cross Validation model evaluation\n",
        "  for train, test in kfold.split(trainDataImage, trainDataLabel):\n",
        "    # Define the model architecture\n",
        "    model = Sequential()\n",
        "    model.add(Conv2D(filters=32, kernel_size=(5,5), padding='same', activation='relu', input_shape=(28, 56, 1)))\n",
        "    model.add(MaxPool2D(strides=2))\n",
        "    model.add(Conv2D(filters=48, kernel_size=(5,5), padding='valid', activation='relu'))\n",
        "    model.add(MaxPool2D(strides=2))\n",
        "    model.add(Flatten())\n",
        "    model.add(Dense(256, activation='relu'))\n",
        "    model.add(Dense(84, activation='relu'))\n",
        "    model.add(Dense(units = 1))\n",
        "  return model\n"
      ]
    },
    {
      "cell_type": "code",
      "execution_count": null,
      "metadata": {
        "id": "YnfkCfSZ6BzV"
      },
      "outputs": [],
      "source": [
        "#source is : https://www.programcreek.com/python/example/89669/keras.layers.MaxPooling2D \n",
        "\n",
        "#alternative Version\n",
        "\n",
        "from tensorflow.keras.models import Sequential\n",
        "from tensorflow.keras.layers import Dense, Flatten, Conv2D, MaxPooling2D\n",
        "from tensorflow.keras.losses import sparse_categorical_crossentropy\n",
        "from tensorflow.keras.optimizers import Adam\n",
        "from sklearn.model_selection import KFold\n",
        "import numpy as np\n",
        "\n",
        "# change type to uint8 to float32\n",
        "trainDataImage = trainDataImage.astype('float32')\n",
        "testDataImage = testDataImage.astype('float32')\n",
        "\n",
        "#image to gray scale\n",
        "trainDataImage /= 255\n",
        "testDataImage /= 255\n",
        "\n",
        "def modelTrain():\n",
        "  # Define the K-fold Cross Validator\n",
        "  #10-fold Cross Calidator\n",
        "  kfold = KFold(n_splits=10, shuffle=True)\n",
        "\n",
        "  # K-fold Cross Validation model evaluation\n",
        "  for train, test in kfold.split(trainDataImage, trainDataLabel):\n",
        "    # Define the model architecture\n",
        "    model = Sequential()\n",
        "    model.add(Conv2D(filters=32, kernel_size=(3,3),activation='relu', input_shape=(28, 56, 1)))\n",
        "    model.add(MaxPool2D(strides=2))\n",
        "    model.add(Conv2D(filters=48, kernel_size=(5,5), padding='valid', activation='relu'))\n",
        "    model.add(MaxPool2D(strides=2))\n",
        "    model.add(Flatten())\n",
        "    model.add(Dense(256, activation='relu'))\n",
        "    model.add(Dense(84, activation='relu'))\n",
        "    model.add(Dense(1))\n",
        "  return model\n"
      ]
    },
    {
      "cell_type": "code",
      "execution_count": null,
      "metadata": {
        "colab": {
          "base_uri": "https://localhost:8080/",
          "height": 212
        },
        "id": "FP9ESl1U77Rp",
        "outputId": "71a117c2-44ad-4858-a12b-961c66325c10"
      },
      "outputs": [
        {
          "name": "stdout",
          "output_type": "stream",
          "text": [
            "10000\n",
            "[97.70737]\n"
          ]
        },
        {
          "data": {
            "image/png": "[encoded data removed]",
            "text/plain": [
              "<Figure size 432x288 with 1 Axes>"
            ]
          },
          "metadata": {},
          "output_type": "display_data"
        }
      ],
      "source": [
        "#17 \n",
        "#predictions checking\n",
        "print(len(predictions))\n",
        "print(predictions[5689])\n",
        "plt.title('Label: %d' %  testDataLabel[5689])\n",
        "#plt.imshow(foo[56664].squeeze(), cmap=plt.cm.gray_r)\n",
        "plt.imshow(testDataImage[5689].squeeze(),cmap=plt.cm.binary)\n",
        "plt.show()"
      ]
    },
    {
      "cell_type": "code",
      "execution_count": null,
      "metadata": {
        "colab": {
          "base_uri": "https://localhost:8080/",
          "height": 195
        },
        "id": "DhHaC3VCUS5u",
        "outputId": "20de93f5-5aea-41e2-e86a-4cbfced869dd"
      },
      "outputs": [
        {
          "name": "stdout",
          "output_type": "stream",
          "text": [
            "[97.70737]\n"
          ]
        },
        {
          "data": {
            "image/png": "[encoded data removed]",
            "text/plain": [
              "<Figure size 432x288 with 1 Axes>"
            ]
          },
          "metadata": {},
          "output_type": "display_data"
        }
      ],
      "source": [
        "print(predictions[8500])\n",
        "plt.title('Label: %d' %  testDataLabel[8500])\n",
        "#plt.imshow(foo[56664].squeeze(), cmap=plt.cm.gray_r)\n",
        "plt.imshow(testDataImage[8500].squeeze(),cmap=plt.cm.binary)\n",
        "plt.show()"
      ]
    },
    {
      "cell_type": "code",
      "execution_count": null,
      "metadata": {
        "colab": {
          "base_uri": "https://localhost:8080/",
          "height": 195
        },
        "id": "LxsfKqxdYQbS",
        "outputId": "506b131f-89db-47ae-c764-8f7d30697ba0"
      },
      "outputs": [
        {
          "name": "stdout",
          "output_type": "stream",
          "text": [
            "[97.70738]\n"
          ]
        },
        {
          "data": {
            "image/png": "[encoded data removed]",
            "text/plain": [
              "<Figure size 432x288 with 1 Axes>"
            ]
          },
          "metadata": {},
          "output_type": "display_data"
        }
      ],
      "source": [
        "print(predictions[9758])\n",
        "plt.title('Label: %d' %  testDataLabel[9758])\n",
        "#plt.imshow(foo[56664].squeeze(), cmap=plt.cm.gray_r)\n",
        "plt.imshow(testDataImage[9758].squeeze(),cmap=plt.cm.binary)\n",
        "plt.show()"
      ]
    },
    {
      "cell_type": "code",
      "execution_count": null,
      "metadata": {
        "colab": {
          "base_uri": "https://localhost:8080/",
          "height": 195
        },
        "id": "XX8Ns1-keuG7",
        "outputId": "d374dea4-1c3f-43c6-ad7c-38124e0c54c6"
      },
      "outputs": [
        {
          "name": "stdout",
          "output_type": "stream",
          "text": [
            "[97.70737]\n"
          ]
        },
        {
          "data": {
            "image/png": "[encoded data removed]",
            "text/plain": [
              "<Figure size 432x288 with 1 Axes>"
            ]
          },
          "metadata": {},
          "output_type": "display_data"
        }
      ],
      "source": [
        "print(predictions[4444])\n",
        "plt.title('Label: %d' %  testDataLabel[4444])\n",
        "#plt.imshow(foo[56664].squeeze(), cmap=plt.cm.gray_r)\n",
        "plt.imshow(testDataImage[4444].squeeze(),cmap=plt.cm.binary)\n",
        "plt.show()"
      ]
    },
    {
      "cell_type": "code",
      "execution_count": null,
      "metadata": {
        "colab": {
          "base_uri": "https://localhost:8080/",
          "height": 195
        },
        "id": "SoEk04a3ffQw",
        "outputId": "254be2ef-300b-4dec-a8ed-97a266201eb6"
      },
      "outputs": [
        {
          "name": "stdout",
          "output_type": "stream",
          "text": [
            "[97.70737]\n"
          ]
        },
        {
          "data": {
            "image/png": "[encoded data removed]",
            "text/plain": [
              "<Figure size 432x288 with 1 Axes>"
            ]
          },
          "metadata": {},
          "output_type": "display_data"
        }
      ],
      "source": [
        "print(predictions[3333])\n",
        "plt.title('Label: %d' %  testDataLabel[3333])\n",
        "#plt.imshow(foo[56664].squeeze(), cmap=plt.cm.gray_r)\n",
        "plt.imshow(testDataImage[3333].squeeze(),cmap=plt.cm.binary)\n",
        "plt.show()"
      ]
    },
    {
      "cell_type": "code",
      "execution_count": null,
      "metadata": {
        "colab": {
          "base_uri": "https://localhost:8080/",
          "height": 195
        },
        "id": "1SPe92_LgBSV",
        "outputId": "ddb20c39-1138-4a1f-9b35-90d3ed486f1f"
      },
      "outputs": [
        {
          "name": "stdout",
          "output_type": "stream",
          "text": [
            "[97.70737]\n"
          ]
        },
        {
          "data": {
            "image/png": "[encoded data removed]",
            "text/plain": [
              "<Figure size 432x288 with 1 Axes>"
            ]
          },
          "metadata": {},
          "output_type": "display_data"
        }
      ],
      "source": [
        "print(predictions[2222])\n",
        "plt.title('Label: %d' %  testDataLabel[2222])\n",
        "#plt.imshow(foo[56664].squeeze(), cmap=plt.cm.gray_r)\n",
        "plt.imshow(testDataImage[2222].squeeze(),cmap=plt.cm.binary)\n",
        "plt.show()"
      ]
    },
    {
      "cell_type": "code",
      "execution_count": null,
      "metadata": {
        "colab": {
          "base_uri": "https://localhost:8080/",
          "height": 195
        },
        "id": "byVx2-QKghfb",
        "outputId": "607be36b-1915-42bb-d358-9102465c1c16"
      },
      "outputs": [
        {
          "name": "stdout",
          "output_type": "stream",
          "text": [
            "[16.016108]\n"
          ]
        },
        {
          "data": {
            "image/png": "[encoded data removed]",
            "text/plain": [
              "<Figure size 432x288 with 1 Axes>"
            ]
          },
          "metadata": {},
          "output_type": "display_data"
        }
      ],
      "source": [
        "print(predictions[6666])\n",
        "plt.title('Label: %d' %  testDataLabel[6666])\n",
        "#plt.imshow(foo[56664].squeeze(), cmap=plt.cm.gray_r)\n",
        "plt.imshow(testDataImage[6666].squeeze(),cmap=plt.cm.binary)\n",
        "plt.show()"
      ]
    },
    {
      "cell_type": "code",
      "execution_count": null,
      "metadata": {
        "colab": {
          "base_uri": "https://localhost:8080/",
          "height": 195
        },
        "id": "U0U-1WUdjZpT",
        "outputId": "3a9cef29-08b8-4e27-bf40-6afff98eaec5"
      },
      "outputs": [
        {
          "name": "stdout",
          "output_type": "stream",
          "text": [
            "[27.500978]\n"
          ]
        },
        {
          "data": {
            "image/png": "[encoded data removed]",
            "text/plain": [
              "<Figure size 432x288 with 1 Axes>"
            ]
          },
          "metadata": {},
          "output_type": "display_data"
        }
      ],
      "source": [
        "print(predictions[7777])\n",
        "plt.title('Label: %d' %  testDataLabel[7777])\n",
        "#plt.imshow(foo[56664].squeeze(), cmap=plt.cm.gray_r)\n",
        "plt.imshow(testDataImage[7777].squeeze(),cmap=plt.cm.binary)\n",
        "plt.show()"
      ]
    },
    {
      "cell_type": "code",
      "execution_count": null,
      "metadata": {
        "colab": {
          "base_uri": "https://localhost:8080/",
          "height": 195
        },
        "id": "VBnVH0C8j-GL",
        "outputId": "9a90b8d0-b624-40c9-f5a8-7946396cfe59"
      },
      "outputs": [
        {
          "name": "stdout",
          "output_type": "stream",
          "text": [
            "[29.880648]\n"
          ]
        },
        {
          "data": {
            "image/png": "[encoded data removed]",
            "text/plain": [
              "<Figure size 432x288 with 1 Axes>"
            ]
          },
          "metadata": {},
          "output_type": "display_data"
        }
      ],
      "source": [
        "print(predictions[8888])\n",
        "plt.title('Label: %d' %  testDataLabel[8888])\n",
        "#plt.imshow(foo[56664].squeeze(), cmap=plt.cm.gray_r)\n",
        "plt.imshow(testDataImage[8888].squeeze(),cmap=plt.cm.binary)\n",
        "plt.show()"
      ]
    },
    {
      "cell_type": "code",
      "execution_count": null,
      "metadata": {
        "colab": {
          "base_uri": "https://localhost:8080/",
          "height": 195
        },
        "id": "1ihOSLGoj9-c",
        "outputId": "c6150f47-e8f8-4c66-84c8-52f0e265dd91"
      },
      "outputs": [
        {
          "name": "stdout",
          "output_type": "stream",
          "text": [
            "[3.8095565]\n"
          ]
        },
        {
          "data": {
            "image/png": "[encoded data removed]",
            "text/plain": [
              "<Figure size 432x288 with 1 Axes>"
            ]
          },
          "metadata": {},
          "output_type": "display_data"
        }
      ],
      "source": [
        "print(predictions[488])\n",
        "plt.title('Label: %d' %  testDataLabel[488])\n",
        "#plt.imshow(foo[56664].squeeze(), cmap=plt.cm.gray_r)\n",
        "plt.imshow(testDataImage[488].squeeze(),cmap=plt.cm.binary)\n",
        "plt.show()"
      ]
    },
    {
      "cell_type": "code",
      "execution_count": null,
      "metadata": {
        "colab": {
          "base_uri": "https://localhost:8080/",
          "height": 195
        },
        "id": "VhwUS7mxmKiA",
        "outputId": "c4654a66-7f7e-47fe-ec07-c01cf229dd7f"
      },
      "outputs": [
        {
          "name": "stdout",
          "output_type": "stream",
          "text": [
            "[15.009599]\n"
          ]
        },
        {
          "data": {
            "image/png": "[encoded data removed]",
            "text/plain": [
              "<Figure size 432x288 with 1 Axes>"
            ]
          },
          "metadata": {},
          "output_type": "display_data"
        }
      ],
      "source": [
        "print(predictions[1245])\n",
        "plt.title('Label: %d' %  testDataLabel[1245])\n",
        "#plt.imshow(foo[56664].squeeze(), cmap=plt.cm.gray_r)\n",
        "plt.imshow(testDataImage[1245].squeeze(),cmap=plt.cm.binary)\n",
        "plt.show()"
      ]
    },
    {
      "cell_type": "code",
      "execution_count": null,
      "metadata": {
        "colab": {
          "base_uri": "https://localhost:8080/",
          "height": 195
        },
        "id": "RYMinJe8mxYb",
        "outputId": "0ca97c2d-d458-49dc-dfae-b79e860aec3e"
      },
      "outputs": [
        {
          "name": "stdout",
          "output_type": "stream",
          "text": [
            "[22.089693]\n"
          ]
        },
        {
          "data": {
            "image/png": "[encoded data removed]",
            "text/plain": [
              "<Figure size 432x288 with 1 Axes>"
            ]
          },
          "metadata": {},
          "output_type": "display_data"
        }
      ],
      "source": [
        "print(predictions[4212])\n",
        "plt.title('Label: %d' %  testDataLabel[4212])\n",
        "#plt.imshow(foo[56664].squeeze(), cmap=plt.cm.gray_r)\n",
        "plt.imshow(testDataImage[4212].squeeze(),cmap=plt.cm.binary)\n",
        "plt.show()"
      ]
    },
    {
      "cell_type": "code",
      "execution_count": null,
      "metadata": {
        "colab": {
          "base_uri": "https://localhost:8080/",
          "height": 251
        },
        "id": "uU6K9ZqBnJm5",
        "outputId": "c969036a-5907-44f3-9a87-56888df9dece"
      },
      "outputs": [
        {
          "name": "stdout",
          "output_type": "stream",
          "text": [
            "[9.537987]\n"
          ]
        },
        {
          "data": {
            "image/png": "[encoded data removed]",
            "text/plain": [
              "<Figure size 432x288 with 1 Axes>"
            ]
          },
          "metadata": {},
          "output_type": "display_data"
        }
      ],
      "source": [
        "print(predictions[7648])\n",
        "plt.title('Label: %d' %  testDataLabel[7648])\n",
        "#plt.imshow(foo[56664].squeeze(), cmap=plt.cm.gray_r)\n",
        "plt.imshow(testDataImage[7648].squeeze(),cmap=plt.cm.binary)\n",
        "plt.show()"
      ]
    },
    {
      "cell_type": "code",
      "execution_count": null,
      "metadata": {
        "colab": {
          "base_uri": "https://localhost:8080/",
          "height": 251
        },
        "id": "stBpGrxoncnx",
        "outputId": "8b024bc4-b4b2-4a6a-e239-2fb9ef7d7447"
      },
      "outputs": [
        {
          "name": "stdout",
          "output_type": "stream",
          "text": [
            "[14.675799]\n"
          ]
        },
        {
          "data": {
            "image/png": "[encoded data removed]",
            "text/plain": [
              "<Figure size 432x288 with 1 Axes>"
            ]
          },
          "metadata": {},
          "output_type": "display_data"
        }
      ],
      "source": [
        "print(predictions[5421])\n",
        "plt.title('Label: %d' %  testDataLabel[5421])\n",
        "#plt.imshow(foo[56664].squeeze(), cmap=plt.cm.gray_r)\n",
        "plt.imshow(testDataImage[5421].squeeze(),cmap=plt.cm.binary)\n",
        "plt.show()"
      ]
    },
    {
      "cell_type": "code",
      "execution_count": null,
      "metadata": {
        "colab": {
          "base_uri": "https://localhost:8080/",
          "height": 251
        },
        "id": "u9nCfqH6n3Pm",
        "outputId": "52a4c281-b617-4db7-f2db-90cc206fae0c"
      },
      "outputs": [
        {
          "name": "stdout",
          "output_type": "stream",
          "text": [
            "[14.241512]\n"
          ]
        },
        {
          "data": {
            "image/png": "[encoded data removed]",
            "text/plain": [
              "<Figure size 432x288 with 1 Axes>"
            ]
          },
          "metadata": {},
          "output_type": "display_data"
        }
      ],
      "source": [
        "print(predictions[9845])\n",
        "plt.title('Label: %d' %  testDataLabel[9845])\n",
        "#plt.imshow(foo[56664].squeeze(), cmap=plt.cm.gray_r)\n",
        "plt.imshow(testDataImage[9845].squeeze(),cmap=plt.cm.binary)\n",
        "plt.show()"
      ]
    }
  ],
  "metadata": {
    "colab": {
      "collapsed_sections": [],
      "name": "projectNeuralNetworkv2.ipynb",
      "provenance": []
    },
    "kernelspec": {
      "display_name": "Python 3",
      "name": "python3"
    },
    "language_info": {
      "name": "python"
    }
  },
  "nbformat": 4,
  "nbformat_minor": 0
}